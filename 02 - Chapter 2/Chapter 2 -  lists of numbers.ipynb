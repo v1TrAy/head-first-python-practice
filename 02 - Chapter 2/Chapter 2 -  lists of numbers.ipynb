{
 "cells": [
  {
   "cell_type": "markdown",
   "id": "8992fd1e",
   "metadata": {},
   "source": [
    "# Chapter 2 - lists of numbers"
   ]
  },
  {
   "cell_type": "markdown",
   "id": "1be20e7b",
   "metadata": {},
   "source": [
    "### Custom Input"
   ]
  },
  {
   "cell_type": "code",
   "execution_count": null,
   "id": "ab5f9fb2",
   "metadata": {},
   "outputs": [],
   "source": [
    "import builtins\n",
    "\n",
    "\n",
    "# def input(prompt):\n",
    "#     x = builtins.input(prompt)\n",
    "#     print(prompt + x)\n",
    "#     return x\n",
    "\n",
    "RED = \"\\033[31m\"\n",
    "GREEN_ITALIC = \"\\033[32m\\033[3m\"\n",
    "RESET = \"\\033[0m\"\n",
    "\n",
    "\n",
    "def input(prompt):\n",
    "    x = builtins.input(RED + prompt + RESET)\n",
    "    print(f\"🔹{prompt} ➜ {GREEN_ITALIC}{x}{RESET}\")\n",
    "    return x"
   ]
  },
  {
   "cell_type": "markdown",
   "id": "a6bb8d07",
   "metadata": {},
   "source": [
    "### Using with to open (and close) a file"
   ]
  },
  {
   "cell_type": "markdown",
   "id": "0b204bbb",
   "metadata": {},
   "source": [
    "## Average.ipynb"
   ]
  },
  {
   "cell_type": "code",
   "execution_count": null,
   "id": "5fbbd562",
   "metadata": {},
   "outputs": [],
   "source": [
    "FN = \"Darius-13-100m-Fly.txt\""
   ]
  },
  {
   "cell_type": "code",
   "execution_count": null,
   "id": "23947e5a",
   "metadata": {},
   "outputs": [],
   "source": [
    "FOLDER = \"swimdata/\""
   ]
  },
  {
   "cell_type": "code",
   "execution_count": null,
   "id": "235d2da4",
   "metadata": {},
   "outputs": [],
   "source": [
    "with open(FOLDER+FN) as file:\n",
    "    lines = file.readlines()"
   ]
  },
  {
   "cell_type": "markdown",
   "id": "bc12edea",
   "metadata": {},
   "source": [
    "### Variables are created dynamically, as needed"
   ]
  },
  {
   "cell_type": "code",
   "execution_count": null,
   "id": "aad87933",
   "metadata": {},
   "outputs": [
    {
     "data": {
      "text/plain": [
       "_io.TextIOWrapper"
      ]
     },
     "execution_count": 5,
     "metadata": {},
     "output_type": "execute_result"
    }
   ],
   "source": [
    "type(file)"
   ]
  },
  {
   "cell_type": "code",
   "execution_count": null,
   "id": "a1531e68",
   "metadata": {},
   "outputs": [
    {
     "name": "stdout",
     "output_type": "stream",
     "text": [
      "['_CHUNK_SIZE', '__class__', '__del__', '__delattr__', '__dict__', '__dir__', '__doc__', '__enter__', '__eq__', '__exit__', '__format__', '__ge__', '__getattribute__', '__getstate__', '__gt__', '__hash__', '__init__', '__init_subclass__', '__iter__', '__le__', '__lt__', '__module__', '__ne__', '__new__', '__next__', '__reduce__', '__reduce_ex__', '__repr__', '__setattr__', '__sizeof__', '__str__', '__subclasshook__', '_checkClosed', '_checkReadable', '_checkSeekable', '_checkWritable', '_finalizing', 'buffer', 'close', 'closed', 'detach', 'encoding', 'errors', 'fileno', 'flush', 'isatty', 'line_buffering', 'mode', 'name', 'newlines', 'read', 'readable', 'readline', 'readlines', 'reconfigure', 'seek', 'seekable', 'tell', 'truncate', 'writable', 'write', 'write_through', 'writelines']\n"
     ]
    }
   ],
   "source": [
    "print(dir(file))"
   ]
  },
  {
   "cell_type": "markdown",
   "id": "4ab7d84e",
   "metadata": {},
   "source": [
    "### The file’s data is what you really want"
   ]
  },
  {
   "cell_type": "code",
   "execution_count": null,
   "id": "6905fa9a",
   "metadata": {},
   "outputs": [
    {
     "data": {
      "text/plain": [
       "list"
      ]
     },
     "execution_count": 7,
     "metadata": {},
     "output_type": "execute_result"
    }
   ],
   "source": [
    "type(lines)"
   ]
  },
  {
   "cell_type": "code",
   "execution_count": null,
   "id": "3417dd75",
   "metadata": {},
   "outputs": [
    {
     "data": {
      "text/plain": [
       "['1:27.95,1:21.07,1:30.96,1:23.22,1:27.95,1:28.30\\n']"
      ]
     },
     "execution_count": 8,
     "metadata": {},
     "output_type": "execute_result"
    }
   ],
   "source": [
    "lines"
   ]
  },
  {
   "cell_type": "code",
   "execution_count": null,
   "id": "45ee710c",
   "metadata": {},
   "outputs": [
    {
     "data": {
      "text/plain": [
       "'1:27.95,1:21.07,1:30.96,1:23.22,1:27.95,1:28.30\\n'"
      ]
     },
     "execution_count": 9,
     "metadata": {},
     "output_type": "execute_result"
    }
   ],
   "source": [
    "lines[0]"
   ]
  },
  {
   "cell_type": "code",
   "execution_count": null,
   "id": "47df1df3",
   "metadata": {},
   "outputs": [
    {
     "data": {
      "text/plain": [
       "str"
      ]
     },
     "execution_count": 10,
     "metadata": {},
     "output_type": "execute_result"
    }
   ],
   "source": [
    "type(lines[0])"
   ]
  }
 ],
 "metadata": {
  "kernelspec": {
   "display_name": "Python 3",
   "language": "python",
   "name": "python3"
  },
  "language_info": {
   "codemirror_mode": {
    "name": "ipython",
    "version": 3
   },
   "file_extension": ".py",
   "mimetype": "text/x-python",
   "name": "python",
   "nbconvert_exporter": "python",
   "pygments_lexer": "ipython3",
   "version": "3.13.5"
  }
 },
 "nbformat": 4,
 "nbformat_minor": 5
}
