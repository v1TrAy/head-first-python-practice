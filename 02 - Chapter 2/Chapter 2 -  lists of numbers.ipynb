{
 "cells": [
  {
   "cell_type": "markdown",
   "id": "8992fd1e",
   "metadata": {},
   "source": [
    "# Chapter 2 - lists of numbers"
   ]
  },
  {
   "cell_type": "markdown",
   "id": "1be20e7b",
   "metadata": {},
   "source": [
    "### Custom Input"
   ]
  },
  {
   "cell_type": "code",
   "execution_count": null,
   "id": "ab5f9fb2",
   "metadata": {},
   "outputs": [],
   "source": [
    "import builtins\n",
    "\n",
    "\n",
    "# def input(prompt):\n",
    "#     x = builtins.input(prompt)\n",
    "#     print(prompt + x)\n",
    "#     return x\n",
    "\n",
    "RED = \"\\033[31m\"\n",
    "GREEN_ITALIC = \"\\033[32m\\033[3m\"\n",
    "RESET = \"\\033[0m\"\n",
    "\n",
    "\n",
    "def input(prompt):\n",
    "    x = builtins.input(RED + prompt + RESET)\n",
    "    print(f\"🔹{prompt} ➜ {GREEN_ITALIC}{x}{RESET}\")\n",
    "    return x"
   ]
  },
  {
   "cell_type": "markdown",
   "id": "0b204bbb",
   "metadata": {},
   "source": [
    "## Average.ipynb"
   ]
  },
  {
   "cell_type": "markdown",
   "id": "7e8a53cd",
   "metadata": {},
   "source": [
    "### Using with to open (and close) a file"
   ]
  },
  {
   "cell_type": "code",
   "execution_count": null,
   "id": "5fbbd562",
   "metadata": {},
   "outputs": [],
   "source": [
    "FN = \"Darius-13-100m-Fly.txt\""
   ]
  },
  {
   "cell_type": "code",
   "execution_count": null,
   "id": "23947e5a",
   "metadata": {},
   "outputs": [],
   "source": [
    "FOLDER = \"swimdata/\""
   ]
  },
  {
   "cell_type": "code",
   "execution_count": null,
   "id": "235d2da4",
   "metadata": {},
   "outputs": [],
   "source": [
    "with open(FOLDER+FN) as file:\n",
    "    lines = file.readlines()"
   ]
  },
  {
   "cell_type": "markdown",
   "id": "bc12edea",
   "metadata": {},
   "source": [
    "### Variables are created dynamically, as needed"
   ]
  },
  {
   "cell_type": "code",
   "execution_count": null,
   "id": "aad87933",
   "metadata": {},
   "outputs": [
    {
     "data": {
      "text/plain": [
       "_io.TextIOWrapper"
      ]
     },
     "execution_count": 7,
     "metadata": {},
     "output_type": "execute_result"
    }
   ],
   "source": [
    "type(file)"
   ]
  },
  {
   "cell_type": "code",
   "execution_count": null,
   "id": "a1531e68",
   "metadata": {},
   "outputs": [
    {
     "name": "stdout",
     "output_type": "stream",
     "text": [
      "['_CHUNK_SIZE', '__class__', '__del__', '__delattr__', '__dict__', '__dir__', '__doc__', '__enter__', '__eq__', '__exit__', '__format__', '__ge__', '__getattribute__', '__getstate__', '__gt__', '__hash__', '__init__', '__init_subclass__', '__iter__', '__le__', '__lt__', '__module__', '__ne__', '__new__', '__next__', '__reduce__', '__reduce_ex__', '__repr__', '__setattr__', '__sizeof__', '__str__', '__subclasshook__', '_checkClosed', '_checkReadable', '_checkSeekable', '_checkWritable', '_finalizing', 'buffer', 'close', 'closed', 'detach', 'encoding', 'errors', 'fileno', 'flush', 'isatty', 'line_buffering', 'mode', 'name', 'newlines', 'read', 'readable', 'readline', 'readlines', 'reconfigure', 'seek', 'seekable', 'tell', 'truncate', 'writable', 'write', 'write_through', 'writelines']\n"
     ]
    }
   ],
   "source": [
    "print(dir(file))"
   ]
  },
  {
   "cell_type": "markdown",
   "id": "4ab7d84e",
   "metadata": {},
   "source": [
    "### The file’s data is what you really want"
   ]
  },
  {
   "cell_type": "code",
   "execution_count": null,
   "id": "6905fa9a",
   "metadata": {},
   "outputs": [
    {
     "data": {
      "text/plain": [
       "list"
      ]
     },
     "execution_count": 9,
     "metadata": {},
     "output_type": "execute_result"
    }
   ],
   "source": [
    "type(lines)"
   ]
  },
  {
   "cell_type": "code",
   "execution_count": null,
   "id": "3417dd75",
   "metadata": {},
   "outputs": [
    {
     "data": {
      "text/plain": [
       "['1:27.95,1:21.07,1:30.96,1:23.22,1:27.95,1:28.30\\n']"
      ]
     },
     "execution_count": 10,
     "metadata": {},
     "output_type": "execute_result"
    }
   ],
   "source": [
    "lines"
   ]
  },
  {
   "cell_type": "code",
   "execution_count": null,
   "id": "45ee710c",
   "metadata": {},
   "outputs": [
    {
     "data": {
      "text/plain": [
       "'1:27.95,1:21.07,1:30.96,1:23.22,1:27.95,1:28.30\\n'"
      ]
     },
     "execution_count": 11,
     "metadata": {},
     "output_type": "execute_result"
    }
   ],
   "source": [
    "lines[0]"
   ]
  },
  {
   "cell_type": "code",
   "execution_count": null,
   "id": "47df1df3",
   "metadata": {},
   "outputs": [
    {
     "data": {
      "text/plain": [
       "str"
      ]
     },
     "execution_count": 12,
     "metadata": {},
     "output_type": "execute_result"
    }
   ],
   "source": [
    "type(lines[0])"
   ]
  },
  {
   "cell_type": "markdown",
   "id": "427ca7df",
   "metadata": {},
   "source": [
    "---\n",
    "### ✏️ Sharpen your pencil: Page 95"
   ]
  },
  {
   "cell_type": "code",
   "execution_count": null,
   "id": "e7642184",
   "metadata": {},
   "outputs": [
    {
     "data": {
      "text/plain": [
       "['1:27.95', '1:21.07', '1:30.96', '1:23.22', '1:27.95', '1:28.30']"
      ]
     },
     "execution_count": 20,
     "metadata": {},
     "output_type": "execute_result"
    }
   ],
   "source": [
    "times = lines[0].strip().split(\",\")\n",
    "times"
   ]
  },
  {
   "cell_type": "markdown",
   "id": "4c09c4d7",
   "metadata": {},
   "source": [
    "### To hundredths of seconds with Python"
   ]
  },
  {
   "cell_type": "code",
   "execution_count": null,
   "id": "c5be1f99",
   "metadata": {},
   "outputs": [
    {
     "data": {
      "text/plain": [
       "'1:27.95'"
      ]
     },
     "execution_count": 23,
     "metadata": {},
     "output_type": "execute_result"
    }
   ],
   "source": [
    "first = times[0]\n",
    "first"
   ]
  },
  {
   "cell_type": "code",
   "execution_count": null,
   "id": "5cec91be",
   "metadata": {},
   "outputs": [
    {
     "data": {
      "text/plain": [
       "'1'"
      ]
     },
     "execution_count": 26,
     "metadata": {},
     "output_type": "execute_result"
    }
   ],
   "source": [
    "minutes, rest = first.split(\":\")\n",
    "minutes"
   ]
  },
  {
   "cell_type": "code",
   "execution_count": null,
   "id": "f6f4b920",
   "metadata": {},
   "outputs": [
    {
     "data": {
      "text/plain": [
       "'27.95'"
      ]
     },
     "execution_count": 27,
     "metadata": {},
     "output_type": "execute_result"
    }
   ],
   "source": [
    "rest"
   ]
  },
  {
   "cell_type": "code",
   "execution_count": null,
   "id": "ac11734b",
   "metadata": {},
   "outputs": [
    {
     "data": {
      "text/plain": [
       "'27'"
      ]
     },
     "execution_count": 28,
     "metadata": {},
     "output_type": "execute_result"
    }
   ],
   "source": [
    "seconds, hundredths = rest.split(\".\")\n",
    "seconds"
   ]
  },
  {
   "cell_type": "code",
   "execution_count": null,
   "id": "d5c6d41f",
   "metadata": {},
   "outputs": [
    {
     "data": {
      "text/plain": [
       "'95'"
      ]
     },
     "execution_count": 29,
     "metadata": {},
     "output_type": "execute_result"
    }
   ],
   "source": [
    "hundredths"
   ]
  },
  {
   "cell_type": "code",
   "execution_count": null,
   "id": "8b70c518",
   "metadata": {},
   "outputs": [
    {
     "data": {
      "text/plain": [
       "8795"
      ]
     },
     "execution_count": 32,
     "metadata": {},
     "output_type": "execute_result"
    }
   ],
   "source": [
    "converted_time = int(minutes) * 60 * 100 + int(seconds) * 100 + int(hundredths)\n",
    "\n",
    "converted_time"
   ]
  },
  {
   "cell_type": "markdown",
   "id": "77f809d4",
   "metadata": {},
   "source": [
    "### A quick review of Python’s for loop"
   ]
  },
  {
   "cell_type": "code",
   "execution_count": null,
   "id": "a7f89f85",
   "metadata": {},
   "outputs": [
    {
     "name": "stdout",
     "output_type": "stream",
     "text": [
      "1:27.95\n",
      "1:21.07\n",
      "1:30.96\n",
      "1:23.22\n",
      "1:27.95\n",
      "1:28.30\n"
     ]
    }
   ],
   "source": [
    "for t in times:\n",
    "    print(t)"
   ]
  },
  {
   "cell_type": "markdown",
   "id": "57e949d8",
   "metadata": {},
   "source": [
    "---\n",
    "### 📝 Exercise: Page 104"
   ]
  },
  {
   "cell_type": "code",
   "execution_count": null,
   "id": "7a719098",
   "metadata": {},
   "outputs": [
    {
     "name": "stdout",
     "output_type": "stream",
     "text": [
      "1:27.95 -> 8795\n",
      "1:21.07 -> 8107\n",
      "1:30.96 -> 9096\n",
      "1:23.22 -> 8322\n",
      "1:27.95 -> 8795\n",
      "1:28.30 -> 8830\n"
     ]
    }
   ],
   "source": [
    "for t in times:\n",
    "    first = t\n",
    "    minutes, rest = first.split(\":\")\n",
    "    seconds, hundredths = rest.split(\".\")\n",
    "    converted_time = int(minutes) * 60 * 100 + \\\n",
    "        int(seconds) * 100 + int(hundredths)\n",
    "\n",
    "    print(t, \"->\", converted_time)"
   ]
  },
  {
   "cell_type": "markdown",
   "id": "1e1376d3",
   "metadata": {},
   "source": [
    "---\n",
    "### The gloves are off… for loops vs. while loops"
   ]
  },
  {
   "cell_type": "code",
   "execution_count": null,
   "id": "e8fbbc9f",
   "metadata": {},
   "outputs": [
    {
     "name": "stdout",
     "output_type": "stream",
     "text": [
      "1:27.95\n",
      "1:21.07\n",
      "1:30.96\n",
      "1:23.22\n",
      "1:27.95\n",
      "1:28.30\n"
     ]
    }
   ],
   "source": [
    "for t in times:\n",
    "    print(t)"
   ]
  },
  {
   "cell_type": "code",
   "execution_count": null,
   "id": "10b2e6d3",
   "metadata": {},
   "outputs": [
    {
     "name": "stdout",
     "output_type": "stream",
     "text": [
      "1:27.95\n",
      "1:21.07\n",
      "1:30.96\n",
      "1:23.22\n",
      "1:27.95\n",
      "1:28.30\n"
     ]
    }
   ],
   "source": [
    "i = 0\n",
    "while i < len(times):\n",
    "    print(times[i])\n",
    "    i = i + 1"
   ]
  },
  {
   "cell_type": "markdown",
   "id": "301eec4b",
   "metadata": {},
   "source": [
    "### Creating a new, empty list"
   ]
  },
  {
   "cell_type": "code",
   "execution_count": null,
   "id": "895aea2d",
   "metadata": {},
   "outputs": [],
   "source": [
    "converts = []"
   ]
  },
  {
   "cell_type": "code",
   "execution_count": null,
   "id": "b63eb725",
   "metadata": {},
   "outputs": [
    {
     "data": {
      "text/plain": [
       "list"
      ]
     },
     "execution_count": 42,
     "metadata": {},
     "output_type": "execute_result"
    }
   ],
   "source": [
    "type(converts)"
   ]
  },
  {
   "cell_type": "code",
   "execution_count": null,
   "id": "6a5dd5b4",
   "metadata": {},
   "outputs": [
    {
     "data": {
      "text/plain": [
       "0"
      ]
     },
     "execution_count": 43,
     "metadata": {},
     "output_type": "execute_result"
    }
   ],
   "source": [
    "len(converts)"
   ]
  },
  {
   "cell_type": "markdown",
   "id": "8db5542b",
   "metadata": {},
   "source": [
    "### Displaying a list of your list’s methods"
   ]
  },
  {
   "cell_type": "code",
   "execution_count": null,
   "id": "8c221a46",
   "metadata": {},
   "outputs": [
    {
     "name": "stdout",
     "output_type": "stream",
     "text": [
      "['__add__', '__class__', '__class_getitem__', '__contains__', '__delattr__', '__delitem__', '__dir__', '__doc__', '__eq__', '__format__', '__ge__', '__getattribute__', '__getitem__', '__getstate__', '__gt__', '__hash__', '__iadd__', '__imul__', '__init__', '__init_subclass__', '__iter__', '__le__', '__len__', '__lt__', '__mul__', '__ne__', '__new__', '__reduce__', '__reduce_ex__', '__repr__', '__reversed__', '__rmul__', '__setattr__', '__setitem__', '__sizeof__', '__str__', '__subclasshook__', 'append', 'clear', 'copy', 'count', 'extend', 'index', 'insert', 'pop', 'remove', 'reverse', 'sort']\n"
     ]
    }
   ],
   "source": [
    "print(dir(converts))"
   ]
  },
  {
   "cell_type": "code",
   "execution_count": null,
   "id": "7cd7c067",
   "metadata": {},
   "outputs": [
    {
     "name": "stdout",
     "output_type": "stream",
     "text": [
      "Help on built-in function append:\n",
      "\n",
      "append(object, /) method of builtins.list instance\n",
      "    Append object to the end of the list.\n",
      "\n"
     ]
    }
   ],
   "source": [
    "help(converts.append)"
   ]
  },
  {
   "cell_type": "markdown",
   "id": "fb4108f5",
   "metadata": {},
   "source": [
    "---\n",
    "### ✏️ Sharpen your pencil: Page 111"
   ]
  },
  {
   "cell_type": "code",
   "execution_count": null,
   "id": "0093e6ab",
   "metadata": {},
   "outputs": [],
   "source": [
    "converts = []\n",
    "for t in times:\n",
    "    minutes, rest = t.split(\":\")\n",
    "    seconds, hundredths = rest.split(\".\")\n",
    "    converts.append((int(minutes) * 60 * 100) +\n",
    "                    (int(seconds) * 100) + int(hundredths))"
   ]
  },
  {
   "cell_type": "markdown",
   "id": "55440307",
   "metadata": {},
   "source": [
    "---\n",
    "### 🚗 Test Drive: Page 113"
   ]
  },
  {
   "cell_type": "code",
   "execution_count": null,
   "id": "abbcfdbc",
   "metadata": {},
   "outputs": [
    {
     "data": {
      "text/plain": [
       "['1:27.95', '1:21.07', '1:30.96', '1:23.22', '1:27.95', '1:28.30']"
      ]
     },
     "execution_count": 47,
     "metadata": {},
     "output_type": "execute_result"
    }
   ],
   "source": [
    "times"
   ]
  },
  {
   "cell_type": "code",
   "execution_count": null,
   "id": "a5b68e93",
   "metadata": {},
   "outputs": [
    {
     "data": {
      "text/plain": [
       "[8795, 8107, 9096, 8322, 8795, 8830]"
      ]
     },
     "execution_count": 48,
     "metadata": {},
     "output_type": "execute_result"
    }
   ],
   "source": [
    "converts"
   ]
  },
  {
   "cell_type": "markdown",
   "id": "59de6cef",
   "metadata": {},
   "source": [
    "---\n",
    "### It’s time to calculate the average"
   ]
  },
  {
   "cell_type": "code",
   "execution_count": null,
   "id": "b5c1aff8",
   "metadata": {},
   "outputs": [],
   "source": [
    "import statistics"
   ]
  },
  {
   "cell_type": "code",
   "execution_count": null,
   "id": "93798298",
   "metadata": {},
   "outputs": [
    {
     "data": {
      "text/plain": [
       "8657.5"
      ]
     },
     "execution_count": 50,
     "metadata": {},
     "output_type": "execute_result"
    }
   ],
   "source": [
    "statistics.mean(converts)"
   ]
  },
  {
   "cell_type": "code",
   "execution_count": null,
   "id": "16687d3f",
   "metadata": {},
   "outputs": [],
   "source": [
    "average = statistics.mean(converts)"
   ]
  },
  {
   "cell_type": "markdown",
   "id": "1fc0fe5b",
   "metadata": {},
   "source": [
    "### Convert the average to a swim time string"
   ]
  },
  {
   "cell_type": "code",
   "execution_count": null,
   "id": "da90b0a7",
   "metadata": {},
   "outputs": [
    {
     "data": {
      "text/plain": [
       "86.575"
      ]
     },
     "execution_count": 53,
     "metadata": {},
     "output_type": "execute_result"
    }
   ],
   "source": [
    "average / 100"
   ]
  },
  {
   "cell_type": "code",
   "execution_count": null,
   "id": "2661a8c3",
   "metadata": {},
   "outputs": [
    {
     "data": {
      "text/plain": [
       "86.58"
      ]
     },
     "execution_count": 54,
     "metadata": {},
     "output_type": "execute_result"
    }
   ],
   "source": [
    "round(average / 100, 2)"
   ]
  },
  {
   "cell_type": "code",
   "execution_count": null,
   "id": "927b9a58",
   "metadata": {},
   "outputs": [
    {
     "data": {
      "text/plain": [
       "['86', '58']"
      ]
     },
     "execution_count": 55,
     "metadata": {},
     "output_type": "execute_result"
    }
   ],
   "source": [
    "str(round(average / 100, 2)).split(\".\")"
   ]
  },
  {
   "cell_type": "code",
   "execution_count": null,
   "id": "50745a40",
   "metadata": {},
   "outputs": [],
   "source": [
    "mins_secs, hundredths = str(round(average / 100, 2)).split(\".\")"
   ]
  },
  {
   "cell_type": "code",
   "execution_count": null,
   "id": "d26a10c9",
   "metadata": {},
   "outputs": [],
   "source": [
    "mins_secs = int(mins_secs)"
   ]
  },
  {
   "cell_type": "code",
   "execution_count": null,
   "id": "2639e916",
   "metadata": {},
   "outputs": [
    {
     "data": {
      "text/plain": [
       "1"
      ]
     },
     "execution_count": 59,
     "metadata": {},
     "output_type": "execute_result"
    }
   ],
   "source": [
    "minutes = mins_secs // 60\n",
    "minutes"
   ]
  },
  {
   "cell_type": "code",
   "execution_count": null,
   "id": "2bab0f80",
   "metadata": {},
   "outputs": [
    {
     "data": {
      "text/plain": [
       "26"
      ]
     },
     "execution_count": 60,
     "metadata": {},
     "output_type": "execute_result"
    }
   ],
   "source": [
    "seconds = mins_secs - minutes * 60\n",
    "seconds"
   ]
  },
  {
   "cell_type": "code",
   "execution_count": null,
   "id": "7aa4c4a2",
   "metadata": {},
   "outputs": [
    {
     "data": {
      "text/plain": [
       "(1, 26, '58')"
      ]
     },
     "execution_count": 61,
     "metadata": {},
     "output_type": "execute_result"
    }
   ],
   "source": [
    "minutes, seconds, hundredths"
   ]
  },
  {
   "cell_type": "code",
   "execution_count": null,
   "id": "badfcc91",
   "metadata": {},
   "outputs": [
    {
     "data": {
      "text/plain": [
       "'1:26.58'"
      ]
     },
     "execution_count": 62,
     "metadata": {},
     "output_type": "execute_result"
    }
   ],
   "source": [
    "str(minutes) + \":\" + str(seconds) + \".\" + hundredths"
   ]
  },
  {
   "cell_type": "code",
   "execution_count": null,
   "id": "4744b2b0",
   "metadata": {},
   "outputs": [],
   "source": [
    "average = str(minutes) + \":\" + str(seconds) + \".\" + hundredths"
   ]
  },
  {
   "cell_type": "code",
   "execution_count": null,
   "id": "cf107673",
   "metadata": {},
   "outputs": [
    {
     "data": {
      "text/plain": [
       "'1:26.58'"
      ]
     },
     "execution_count": 64,
     "metadata": {},
     "output_type": "execute_result"
    }
   ],
   "source": [
    "average"
   ]
  },
  {
   "cell_type": "markdown",
   "id": "2712304c",
   "metadata": {},
   "source": [
    "---\n",
    "### 📝 Exercise: Page 119"
   ]
  },
  {
   "cell_type": "markdown",
   "id": "9c48dbc0",
   "metadata": {},
   "source": [
    "## Times.ipynb"
   ]
  },
  {
   "cell_type": "code",
   "execution_count": null,
   "id": "88ea936f",
   "metadata": {},
   "outputs": [],
   "source": [
    "FN = \"Darius-13-100m-Fly.txt\"\n",
    "FOLDER = \"swimdata/\""
   ]
  },
  {
   "cell_type": "code",
   "execution_count": null,
   "id": "0df982ec",
   "metadata": {},
   "outputs": [],
   "source": [
    "swimmer, age, distance, stroke = FN.removesuffix(\".txt\").split(\"-\")"
   ]
  },
  {
   "cell_type": "code",
   "execution_count": null,
   "id": "02ef19dc",
   "metadata": {},
   "outputs": [],
   "source": [
    "with open(FOLDER+FN) as file:\n",
    "    lines = file.readlines()\n",
    "    times = lines[0].strip().split(\",\")"
   ]
  },
  {
   "cell_type": "code",
   "execution_count": null,
   "id": "b495ba69",
   "metadata": {},
   "outputs": [],
   "source": [
    "converts = []\n",
    "for t in times:\n",
    "    minutes, rest = t.split(\":\")\n",
    "    seconds, hundredths = rest.split(\".\")\n",
    "    converts.append((int(minutes)*60*100) +\n",
    "                    (int(seconds)*100) + int(hundredths))"
   ]
  },
  {
   "cell_type": "code",
   "execution_count": null,
   "id": "13aa8b72",
   "metadata": {},
   "outputs": [],
   "source": [
    "import statistics\n",
    "\n",
    "average = statistics.mean(converts)\n",
    "mins_secs, hundredths = str(round(average / 100, 2)).split(\".\")\n",
    "mins_secs = int(mins_secs)\n",
    "minutes = mins_secs // 60\n",
    "seconds = mins_secs - minutes*60\n",
    "average = str(minutes) + \":\" + str(seconds) + \".\" + hundredths"
   ]
  },
  {
   "cell_type": "code",
   "execution_count": null,
   "id": "5431737d",
   "metadata": {},
   "outputs": [
    {
     "data": {
      "text/plain": [
       "('Darius', '13', '100m', 'Fly')"
      ]
     },
     "execution_count": 73,
     "metadata": {},
     "output_type": "execute_result"
    }
   ],
   "source": [
    "swimmer, age, distance, stroke"
   ]
  },
  {
   "cell_type": "code",
   "execution_count": null,
   "id": "1921a779",
   "metadata": {},
   "outputs": [
    {
     "data": {
      "text/plain": [
       "['1:27.95', '1:21.07', '1:30.96', '1:23.22', '1:27.95', '1:28.30']"
      ]
     },
     "execution_count": 74,
     "metadata": {},
     "output_type": "execute_result"
    }
   ],
   "source": [
    "times"
   ]
  },
  {
   "cell_type": "code",
   "execution_count": null,
   "id": "dde5490e",
   "metadata": {},
   "outputs": [
    {
     "data": {
      "text/plain": [
       "'1:26.58'"
      ]
     },
     "execution_count": 75,
     "metadata": {},
     "output_type": "execute_result"
    }
   ],
   "source": [
    "average"
   ]
  },
  {
   "cell_type": "markdown",
   "id": "9e950413",
   "metadata": {},
   "source": [
    "---"
   ]
  }
 ],
 "metadata": {
  "kernelspec": {
   "display_name": "Python 3",
   "language": "python",
   "name": "python3"
  },
  "language_info": {
   "codemirror_mode": {
    "name": "ipython",
    "version": 3
   },
   "file_extension": ".py",
   "mimetype": "text/x-python",
   "name": "python",
   "nbconvert_exporter": "python",
   "pygments_lexer": "ipython3",
   "version": "3.13.5"
  }
 },
 "nbformat": 4,
 "nbformat_minor": 5
}
