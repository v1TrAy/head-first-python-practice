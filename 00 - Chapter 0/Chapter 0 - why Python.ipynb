{
 "cells": [
  {
   "cell_type": "markdown",
   "id": "6e2654ef",
   "metadata": {},
   "source": [
    "# Chapter 0 - why Python?"
   ]
  },
  {
   "cell_type": "markdown",
   "id": "9df7215a",
   "metadata": {},
   "source": [
    "### Custom Input"
   ]
  },
  {
   "cell_type": "code",
   "execution_count": null,
   "id": "3b80d549",
   "metadata": {},
   "outputs": [],
   "source": [
    "import builtins\n",
    "\n",
    "\n",
    "# def input(prompt):\n",
    "#     x = builtins.input(prompt)\n",
    "#     print(prompt + x)\n",
    "#     return x\n",
    "\n",
    "RED = \"\\033[31m\"\n",
    "GREEN_ITALIC = \"\\033[32m\\033[3m\"\n",
    "RESET = \"\\033[0m\"\n",
    "\n",
    "\n",
    "def input(prompt):\n",
    "    x = builtins.input(RED + prompt + RESET)\n",
    "    print(f\"🔹{prompt} ➜ {GREEN_ITALIC}{x}{RESET}\")\n",
    "    return x"
   ]
  },
  {
   "cell_type": "markdown",
   "id": "bb352ac1",
   "metadata": {},
   "source": [
    "### Let’s pop some code into your notebook editor"
   ]
  },
  {
   "cell_type": "code",
   "execution_count": null,
   "id": "d7dee2a9",
   "metadata": {},
   "outputs": [],
   "source": [
    "import random\n",
    "\n",
    "suits = [\"Clubs\", \"Spades\", \"Hearts\", \"Diamonds\"]\n",
    "faces = [\"Jack\", \"Queen\", \"King\", \"Ace\"]\n",
    "numbered = [2, 3, 4, 5, 6, 7, 8, 9, 10]"
   ]
  },
  {
   "cell_type": "markdown",
   "id": "cbfef765",
   "metadata": {},
   "source": [
    "---\n",
    "### 🧪 Exercise: Page 11"
   ]
  },
  {
   "cell_type": "code",
   "execution_count": null,
   "id": "190da59d",
   "metadata": {},
   "outputs": [
    {
     "data": {
      "text/plain": [
       "['Clubs', 'Spades', 'Hearts', 'Diamonds']"
      ]
     },
     "execution_count": 3,
     "metadata": {},
     "output_type": "execute_result"
    }
   ],
   "source": [
    "suits"
   ]
  },
  {
   "cell_type": "code",
   "execution_count": null,
   "id": "c5b5a5e9",
   "metadata": {},
   "outputs": [],
   "source": [
    "def draw():\n",
    "    the_suit = random.choice(suits)\n",
    "    the_card = random.choice(faces + numbered)\n",
    "    return the_card, \"of\", the_suit"
   ]
  },
  {
   "cell_type": "markdown",
   "id": "6c178b86",
   "metadata": {},
   "source": [
    "---\n",
    "### 🚗 Test Drive: Page 13"
   ]
  },
  {
   "cell_type": "code",
   "execution_count": null,
   "id": "42419d50",
   "metadata": {},
   "outputs": [
    {
     "name": "stdout",
     "output_type": "stream",
     "text": [
      "(6, 'of', 'Clubs')\n"
     ]
    }
   ],
   "source": [
    "print(draw())"
   ]
  },
  {
   "cell_type": "code",
   "execution_count": null,
   "id": "bc85b595",
   "metadata": {},
   "outputs": [
    {
     "name": "stdout",
     "output_type": "stream",
     "text": [
      "(3, 'of', 'Diamonds')\n"
     ]
    }
   ],
   "source": [
    "print(draw())"
   ]
  },
  {
   "cell_type": "code",
   "execution_count": null,
   "id": "0bc0f00d",
   "metadata": {},
   "outputs": [
    {
     "name": "stdout",
     "output_type": "stream",
     "text": [
      "('King', 'of', 'Spades')\n"
     ]
    }
   ],
   "source": [
    "print(draw())"
   ]
  },
  {
   "cell_type": "markdown",
   "id": "2beb7d9b",
   "metadata": {},
   "source": [
    "---\n",
    "### 🚗 Test Drive: Page 16"
   ]
  },
  {
   "cell_type": "code",
   "execution_count": null,
   "id": "c3a00264",
   "metadata": {},
   "outputs": [
    {
     "name": "stdout",
     "output_type": "stream",
     "text": [
      "(9, 'of', 'Hearts')\n",
      "(7, 'of', 'Hearts')\n",
      "('Queen', 'of', 'Clubs')\n",
      "(3, 'of', 'Hearts')\n",
      "(4, 'of', 'Diamonds')\n"
     ]
    }
   ],
   "source": [
    "for _ in range(5):\n",
    "    print(draw())"
   ]
  },
  {
   "cell_type": "code",
   "execution_count": null,
   "id": "5358bc35",
   "metadata": {},
   "outputs": [],
   "source": [
    "deck = set()"
   ]
  },
  {
   "cell_type": "markdown",
   "id": "1f963f16",
   "metadata": {},
   "source": [
    "---\n",
    "### Model your deck of cards with a set"
   ]
  },
  {
   "cell_type": "code",
   "execution_count": null,
   "id": "10971e33",
   "metadata": {},
   "outputs": [],
   "source": [
    "deck = set()"
   ]
  },
  {
   "cell_type": "code",
   "execution_count": null,
   "id": "8332e5b1",
   "metadata": {},
   "outputs": [
    {
     "data": {
      "text/plain": [
       "set"
      ]
     },
     "execution_count": 10,
     "metadata": {},
     "output_type": "execute_result"
    }
   ],
   "source": [
    "type(deck)"
   ]
  },
  {
   "cell_type": "code",
   "execution_count": null,
   "id": "9b85bad9",
   "metadata": {},
   "outputs": [
    {
     "data": {
      "text/plain": [
       "0"
      ]
     },
     "execution_count": 11,
     "metadata": {},
     "output_type": "execute_result"
    }
   ],
   "source": [
    "len(deck)"
   ]
  },
  {
   "cell_type": "markdown",
   "id": "debfca58",
   "metadata": {},
   "source": [
    "### The print dir combo mambo"
   ]
  },
  {
   "cell_type": "code",
   "execution_count": null,
   "id": "08e4c77d",
   "metadata": {},
   "outputs": [
    {
     "name": "stdout",
     "output_type": "stream",
     "text": [
      "['__and__', '__class__', '__class_getitem__', '__contains__', '__delattr__', '__dir__', '__doc__', '__eq__', '__format__', '__ge__', '__getattribute__', '__getstate__', '__gt__', '__hash__', '__iand__', '__init__', '__init_subclass__', '__ior__', '__isub__', '__iter__', '__ixor__', '__le__', '__len__', '__lt__', '__ne__', '__new__', '__or__', '__rand__', '__reduce__', '__reduce_ex__', '__repr__', '__ror__', '__rsub__', '__rxor__', '__setattr__', '__sizeof__', '__str__', '__sub__', '__subclasshook__', '__xor__', 'add', 'clear', 'copy', 'difference', 'difference_update', 'discard', 'intersection', 'intersection_update', 'isdisjoint', 'issubset', 'issuperset', 'pop', 'remove', 'symmetric_difference', 'symmetric_difference_update', 'union', 'update']\n"
     ]
    }
   ],
   "source": [
    "print(dir(deck))"
   ]
  },
  {
   "cell_type": "markdown",
   "id": "1e6e4977",
   "metadata": {},
   "source": [
    "### Getting help with dir’s output"
   ]
  },
  {
   "cell_type": "code",
   "execution_count": null,
   "id": "f7479a9c",
   "metadata": {},
   "outputs": [
    {
     "name": "stdout",
     "output_type": "stream",
     "text": [
      "Help on built-in function add:\n",
      "\n",
      "add(object, /) method of builtins.set instance\n",
      "    Add an element to a set.\n",
      "\n",
      "    This has no effect if the element is already present.\n",
      "\n"
     ]
    }
   ],
   "source": [
    "help(deck.add)"
   ]
  },
  {
   "cell_type": "markdown",
   "id": "08260099",
   "metadata": {},
   "source": [
    "### Populate the set with cards"
   ]
  },
  {
   "cell_type": "code",
   "execution_count": null,
   "id": "46288053",
   "metadata": {},
   "outputs": [],
   "source": [
    "suits = [\"Clubs\", \"Spades\", \"Hearts\", \"Diamonds\"]\n",
    "faces = [\"Jack\", \"Queen\", \"King\", \"Ace\"]\n",
    "numbered = [2, 3, 4, 5, 6, 7, 8, 9, 10]"
   ]
  },
  {
   "cell_type": "code",
   "execution_count": null,
   "id": "627603c2",
   "metadata": {},
   "outputs": [],
   "source": [
    "for suit in suits:\n",
    "    for card in faces + numbered:\n",
    "        deck.add((card, \"of\", suit))"
   ]
  },
  {
   "cell_type": "code",
   "execution_count": null,
   "id": "45a6f08a",
   "metadata": {},
   "outputs": [
    {
     "data": {
      "text/plain": [
       "52"
      ]
     },
     "execution_count": 17,
     "metadata": {},
     "output_type": "execute_result"
    }
   ],
   "source": [
    "len(deck)"
   ]
  },
  {
   "cell_type": "markdown",
   "id": "187d6dc5",
   "metadata": {},
   "source": [
    "### This feels like a deck of cards now"
   ]
  },
  {
   "cell_type": "code",
   "execution_count": null,
   "id": "a369328f",
   "metadata": {},
   "outputs": [
    {
     "name": "stdout",
     "output_type": "stream",
     "text": [
      "(10, 'of', 'Spades')\n"
     ]
    }
   ],
   "source": [
    "card = random.choice(list(deck))\n",
    "print(card)"
   ]
  },
  {
   "cell_type": "code",
   "execution_count": null,
   "id": "f9c612fc",
   "metadata": {},
   "outputs": [
    {
     "data": {
      "text/plain": [
       "51"
      ]
     },
     "execution_count": 22,
     "metadata": {},
     "output_type": "execute_result"
    }
   ],
   "source": [
    "deck.remove(card)\n",
    "len(deck)"
   ]
  },
  {
   "cell_type": "code",
   "execution_count": null,
   "id": "9cf13815",
   "metadata": {},
   "outputs": [
    {
     "name": "stdout",
     "output_type": "stream",
     "text": [
      "Help on built-in function remove:\n",
      "\n",
      "remove(object, /) method of builtins.set instance\n",
      "    Remove an element from a set; it must be a member.\n",
      "\n",
      "    If the element is not a member, raise a KeyError.\n",
      "\n"
     ]
    }
   ],
   "source": [
    "help(deck.remove)"
   ]
  },
  {
   "cell_type": "markdown",
   "id": "0d1d3eb7",
   "metadata": {},
   "source": [
    "### What exactly is “card”?"
   ]
  },
  {
   "cell_type": "code",
   "execution_count": null,
   "id": "a4856067",
   "metadata": {},
   "outputs": [
    {
     "data": {
      "text/plain": [
       "tuple"
      ]
     },
     "execution_count": 24,
     "metadata": {},
     "output_type": "execute_result"
    }
   ],
   "source": [
    "type(card)"
   ]
  },
  {
   "cell_type": "code",
   "execution_count": null,
   "id": "5827174f",
   "metadata": {},
   "outputs": [
    {
     "data": {
      "text/plain": [
       "(10, 'of', 'Spades')"
      ]
     },
     "execution_count": 25,
     "metadata": {},
     "output_type": "execute_result"
    }
   ],
   "source": [
    "card"
   ]
  },
  {
   "cell_type": "markdown",
   "id": "8c9cab48",
   "metadata": {},
   "source": [
    "---\n",
    "### ✏️ Sharpen your pencil: Page 25"
   ]
  },
  {
   "cell_type": "code",
   "execution_count": null,
   "id": "6339f444",
   "metadata": {},
   "outputs": [],
   "source": [
    "def draw():\n",
    "    card = random.choice(list(deck))\n",
    "    deck.remove(card)\n",
    "    return card"
   ]
  },
  {
   "cell_type": "markdown",
   "id": "f6aab8c6",
   "metadata": {},
   "source": [
    "---\n",
    "### 🚗 Test Drive: Page 27"
   ]
  },
  {
   "cell_type": "code",
   "execution_count": null,
   "id": "df2a094d",
   "metadata": {},
   "outputs": [
    {
     "name": "stdout",
     "output_type": "stream",
     "text": [
      "(5, 'of', 'Diamonds')\n"
     ]
    }
   ],
   "source": [
    "print(draw())"
   ]
  },
  {
   "cell_type": "code",
   "execution_count": null,
   "id": "b4b124ab",
   "metadata": {},
   "outputs": [
    {
     "data": {
      "text/plain": [
       "50"
      ]
     },
     "execution_count": 28,
     "metadata": {},
     "output_type": "execute_result"
    }
   ],
   "source": [
    "len(deck)"
   ]
  },
  {
   "cell_type": "markdown",
   "id": "26222736",
   "metadata": {},
   "source": [
    "---\n",
    "### Need to find something?"
   ]
  },
  {
   "cell_type": "code",
   "execution_count": null,
   "id": "a329b201",
   "metadata": {},
   "outputs": [],
   "source": [
    "card = (5, 'of', 'Diamonds')"
   ]
  },
  {
   "cell_type": "code",
   "execution_count": null,
   "id": "8920ab97",
   "metadata": {},
   "outputs": [
    {
     "data": {
      "text/plain": [
       "False"
      ]
     },
     "execution_count": 30,
     "metadata": {},
     "output_type": "execute_result"
    }
   ],
   "source": [
    "card in deck"
   ]
  },
  {
   "cell_type": "code",
   "execution_count": null,
   "id": "ddf3216c",
   "metadata": {},
   "outputs": [
    {
     "name": "stdout",
     "output_type": "stream",
     "text": [
      "That card's already taken. :-( \n"
     ]
    }
   ],
   "source": [
    "if card in deck:\n",
    "    print(\"That card's available. :-) \")\n",
    "else:\n",
    "    print(\"That card's already taken. :-( \")"
   ]
  },
  {
   "cell_type": "markdown",
   "id": "f33161dc",
   "metadata": {},
   "source": [
    "### import mindset"
   ]
  },
  {
   "cell_type": "code",
   "execution_count": null,
   "id": "4e11d616",
   "metadata": {},
   "outputs": [
    {
     "name": "stdout",
     "output_type": "stream",
     "text": [
      "The Zen of Python, by Tim Peters\n",
      "\n",
      "Beautiful is better than ugly.\n",
      "Explicit is better than implicit.\n",
      "Simple is better than complex.\n",
      "Complex is better than complicated.\n",
      "Flat is better than nested.\n",
      "Sparse is better than dense.\n",
      "Readability counts.\n",
      "Special cases aren't special enough to break the rules.\n",
      "Although practicality beats purity.\n",
      "Errors should never pass silently.\n",
      "Unless explicitly silenced.\n",
      "In the face of ambiguity, refuse the temptation to guess.\n",
      "There should be one-- and preferably only one --obvious way to do it.\n",
      "Although that way may not be obvious at first unless you're Dutch.\n",
      "Now is better than never.\n",
      "Although never is often better than *right* now.\n",
      "If the implementation is hard to explain, it's a bad idea.\n",
      "If the implementation is easy to explain, it may be a good idea.\n",
      "Namespaces are one honking great idea -- let's do more of those!\n"
     ]
    }
   ],
   "source": [
    "import this"
   ]
  },
  {
   "cell_type": "code",
   "execution_count": null,
   "id": "27e7995c",
   "metadata": {},
   "outputs": [],
   "source": [
    "import antigravity"
   ]
  }
 ],
 "metadata": {
  "kernelspec": {
   "display_name": "Python 3",
   "language": "python",
   "name": "python3"
  },
  "language_info": {
   "codemirror_mode": {
    "name": "ipython",
    "version": 3
   },
   "file_extension": ".py",
   "mimetype": "text/x-python",
   "name": "python",
   "nbconvert_exporter": "python",
   "pygments_lexer": "ipython3",
   "version": "3.13.5"
  }
 },
 "nbformat": 4,
 "nbformat_minor": 5
}
