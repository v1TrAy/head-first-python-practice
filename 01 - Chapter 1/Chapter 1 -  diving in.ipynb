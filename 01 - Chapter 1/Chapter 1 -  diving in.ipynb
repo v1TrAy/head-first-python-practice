{
 "cells": [
  {
   "cell_type": "markdown",
   "id": "6e2654ef",
   "metadata": {},
   "source": [
    "# Chapter 1 - diving in"
   ]
  },
  {
   "cell_type": "markdown",
   "id": "9df7215a",
   "metadata": {},
   "source": [
    "### Custom Input"
   ]
  },
  {
   "cell_type": "code",
   "execution_count": 1,
   "id": "3b80d549",
   "metadata": {},
   "outputs": [],
   "source": [
    "import builtins\n",
    "\n",
    "\n",
    "# def input(prompt):\n",
    "#     x = builtins.input(prompt)\n",
    "#     print(prompt + x)\n",
    "#     return x\n",
    "\n",
    "RED = \"\\033[31m\"\n",
    "GREEN_ITALIC = \"\\033[32m\\033[3m\"\n",
    "RESET = \"\\033[0m\"\n",
    "\n",
    "\n",
    "def input(prompt):\n",
    "    x = builtins.input(RED + prompt + RESET)\n",
    "    print(f\"🔹{prompt} ➜ {GREEN_ITALIC}{x}{RESET}\")\n",
    "    return x"
   ]
  },
  {
   "cell_type": "markdown",
   "id": "421c71d2",
   "metadata": {},
   "source": [
    "### Our first task: Extract the filename’s data"
   ]
  },
  {
   "cell_type": "code",
   "execution_count": 2,
   "id": "ee61ce72",
   "metadata": {},
   "outputs": [],
   "source": [
    "fn = \"Darius-13-100m-Fly.txt\""
   ]
  },
  {
   "cell_type": "code",
   "execution_count": 3,
   "id": "fa69c647",
   "metadata": {},
   "outputs": [
    {
     "name": "stdout",
     "output_type": "stream",
     "text": [
      "['__add__', '__class__', '__contains__', '__delattr__', '__dir__', '__doc__', '__eq__', '__format__', '__ge__', '__getattribute__', '__getitem__', '__getnewargs__', '__getstate__', '__gt__', '__hash__', '__init__', '__init_subclass__', '__iter__', '__le__', '__len__', '__lt__', '__mod__', '__mul__', '__ne__', '__new__', '__reduce__', '__reduce_ex__', '__repr__', '__rmod__', '__rmul__', '__setattr__', '__sizeof__', '__str__', '__subclasshook__', 'capitalize', 'casefold', 'center', 'count', 'encode', 'endswith', 'expandtabs', 'find', 'format', 'format_map', 'index', 'isalnum', 'isalpha', 'isascii', 'isdecimal', 'isdigit', 'isidentifier', 'islower', 'isnumeric', 'isprintable', 'isspace', 'istitle', 'isupper', 'join', 'ljust', 'lower', 'lstrip', 'maketrans', 'partition', 'removeprefix', 'removesuffix', 'replace', 'rfind', 'rindex', 'rjust', 'rpartition', 'rsplit', 'rstrip', 'split', 'splitlines', 'startswith', 'strip', 'swapcase', 'title', 'translate', 'upper', 'zfill']\n"
     ]
    }
   ],
   "source": [
    "print(dir(fn))"
   ]
  },
  {
   "cell_type": "markdown",
   "id": "0a1ec78c",
   "metadata": {},
   "source": [
    "---\n",
    "### ✏️ Sharpen your pencil: Page 55"
   ]
  },
  {
   "cell_type": "code",
   "execution_count": 4,
   "id": "a82ea62b",
   "metadata": {},
   "outputs": [
    {
     "data": {
      "text/plain": [
       "'DARIUS-13-100M-FLY.TXT'"
      ]
     },
     "execution_count": 4,
     "metadata": {},
     "output_type": "execute_result"
    }
   ],
   "source": [
    "fn.upper()"
   ]
  },
  {
   "cell_type": "code",
   "execution_count": 5,
   "id": "1e965e1d",
   "metadata": {},
   "outputs": [
    {
     "data": {
      "text/plain": [
       "'darius-13-100m-fly.txt'"
      ]
     },
     "execution_count": 5,
     "metadata": {},
     "output_type": "execute_result"
    }
   ],
   "source": [
    "fn.lower()"
   ]
  },
  {
   "cell_type": "code",
   "execution_count": 7,
   "id": "4d891584",
   "metadata": {},
   "outputs": [
    {
     "data": {
      "text/plain": [
       "'Darius-13-100m-Fly.txt'"
      ]
     },
     "execution_count": 7,
     "metadata": {},
     "output_type": "execute_result"
    }
   ],
   "source": [
    "fn"
   ]
  },
  {
   "cell_type": "code",
   "execution_count": 11,
   "id": "00ec1bdf",
   "metadata": {},
   "outputs": [
    {
     "data": {
      "text/plain": [
       "-597544349788510783"
      ]
     },
     "execution_count": 11,
     "metadata": {},
     "output_type": "execute_result"
    }
   ],
   "source": [
    "hash(fn)"
   ]
  },
  {
   "cell_type": "markdown",
   "id": "8a0cd935",
   "metadata": {},
   "source": [
    "---\n",
    "### Don’t try to guess what a method does…"
   ]
  },
  {
   "cell_type": "code",
   "execution_count": 12,
   "id": "963316e7",
   "metadata": {},
   "outputs": [
    {
     "name": "stdout",
     "output_type": "stream",
     "text": [
      "Help on built-in function split:\n",
      "\n",
      "split(sep=None, maxsplit=-1) method of builtins.str instance\n",
      "    Return a list of the substrings in the string, using sep as the separator string.\n",
      "\n",
      "      sep\n",
      "        The separator used to split the string.\n",
      "\n",
      "        When set to None (the default value), will split on any whitespace\n",
      "        character (including \\n \\r \\t \\f and spaces) and will discard\n",
      "        empty strings from the result.\n",
      "      maxsplit\n",
      "        Maximum number of splits.\n",
      "        -1 (the default value) means no limit.\n",
      "\n",
      "    Splitting starts at the front of the string and works to the end.\n",
      "\n",
      "    Note, str.split() is mainly useful for data that has been intentionally\n",
      "    delimited.  With natural text that includes punctuation, consider using\n",
      "    the regular expression module.\n",
      "\n"
     ]
    }
   ],
   "source": [
    "help(fn.split)"
   ]
  },
  {
   "cell_type": "markdown",
   "id": "6a348e1e",
   "metadata": {},
   "source": [
    "### Splitting (aka, breaking apart) a string"
   ]
  },
  {
   "cell_type": "code",
   "execution_count": 14,
   "id": "adc3c069",
   "metadata": {},
   "outputs": [],
   "source": [
    "title = \"So long, and thanks for all the fish.\""
   ]
  },
  {
   "cell_type": "code",
   "execution_count": 15,
   "id": "6330b1ae",
   "metadata": {},
   "outputs": [
    {
     "data": {
      "text/plain": [
       "['So', 'long,', 'and', 'thanks', 'for', 'all', 'the', 'fish.']"
      ]
     },
     "execution_count": 15,
     "metadata": {},
     "output_type": "execute_result"
    }
   ],
   "source": [
    "title.split()"
   ]
  },
  {
   "cell_type": "code",
   "execution_count": 16,
   "id": "7c58e292",
   "metadata": {},
   "outputs": [
    {
     "data": {
      "text/plain": [
       "['So long', 'and thanks for all the fish.']"
      ]
     },
     "execution_count": 16,
     "metadata": {},
     "output_type": "execute_result"
    }
   ],
   "source": [
    "title.split(\", \")"
   ]
  },
  {
   "cell_type": "markdown",
   "id": "8636fc26",
   "metadata": {},
   "source": [
    "---\n",
    "### 🚗 Test Drive: Page 61"
   ]
  },
  {
   "cell_type": "code",
   "execution_count": 17,
   "id": "c264cae6",
   "metadata": {},
   "outputs": [
    {
     "data": {
      "text/plain": [
       "['Darius-13-100m-Fly.txt']"
      ]
     },
     "execution_count": 17,
     "metadata": {},
     "output_type": "execute_result"
    }
   ],
   "source": [
    "fn.split()"
   ]
  },
  {
   "cell_type": "code",
   "execution_count": 18,
   "id": "4fb2db32",
   "metadata": {},
   "outputs": [
    {
     "data": {
      "text/plain": [
       "['Darius', '13', '100m', 'Fly.txt']"
      ]
     },
     "execution_count": 18,
     "metadata": {},
     "output_type": "execute_result"
    }
   ],
   "source": [
    "fn.split(\"-\")"
   ]
  },
  {
   "cell_type": "code",
   "execution_count": 19,
   "id": "1d53e5aa",
   "metadata": {},
   "outputs": [
    {
     "data": {
      "text/plain": [
       "['Darius-', '-100m-Fly.txt']"
      ]
     },
     "execution_count": 19,
     "metadata": {},
     "output_type": "execute_result"
    }
   ],
   "source": [
    "fn.split(\"13\")"
   ]
  },
  {
   "cell_type": "code",
   "execution_count": 20,
   "id": "0ee2e52e",
   "metadata": {},
   "outputs": [
    {
     "data": {
      "text/plain": [
       "['Darius', '3', '00m-Fly.txt']"
      ]
     },
     "execution_count": 20,
     "metadata": {},
     "output_type": "execute_result"
    }
   ],
   "source": [
    "fn.split(\"-1\")"
   ]
  },
  {
   "cell_type": "code",
   "execution_count": null,
   "id": "72dbeb0c",
   "metadata": {},
   "outputs": [],
   "source": [
    "fn.split(\".\")"
   ]
  },
  {
   "cell_type": "code",
   "execution_count": null,
   "id": "e671eeeb",
   "metadata": {},
   "outputs": [],
   "source": [
    "fn.split(\"-.\")"
   ]
  },
  {
   "cell_type": "code",
   "execution_count": null,
   "id": "58ff292f",
   "metadata": {},
   "outputs": [],
   "source": [
    "fn.split(\"-\").split(\".\")"
   ]
  }
 ],
 "metadata": {
  "kernelspec": {
   "display_name": "Python 3",
   "language": "python",
   "name": "python3"
  },
  "language_info": {
   "codemirror_mode": {
    "name": "ipython",
    "version": 3
   },
   "file_extension": ".py",
   "mimetype": "text/x-python",
   "name": "python",
   "nbconvert_exporter": "python",
   "pygments_lexer": "ipython3",
   "version": "3.13.5"
  }
 },
 "nbformat": 4,
 "nbformat_minor": 5
}
