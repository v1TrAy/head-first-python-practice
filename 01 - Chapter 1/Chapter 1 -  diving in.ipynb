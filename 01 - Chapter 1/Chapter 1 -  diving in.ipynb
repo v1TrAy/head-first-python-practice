{
 "cells": [
  {
   "cell_type": "markdown",
   "id": "6e2654ef",
   "metadata": {},
   "source": [
    "# Chapter 1 - diving in"
   ]
  },
  {
   "cell_type": "markdown",
   "id": "9df7215a",
   "metadata": {},
   "source": [
    "### Custom Input"
   ]
  },
  {
   "cell_type": "code",
   "execution_count": 2,
   "id": "3b80d549",
   "metadata": {},
   "outputs": [],
   "source": [
    "import builtins\n",
    "\n",
    "\n",
    "# def input(prompt):\n",
    "#     x = builtins.input(prompt)\n",
    "#     print(prompt + x)\n",
    "#     return x\n",
    "\n",
    "RED = \"\\033[31m\"\n",
    "GREEN_ITALIC = \"\\033[32m\\033[3m\"\n",
    "RESET = \"\\033[0m\"\n",
    "\n",
    "\n",
    "def input(prompt):\n",
    "    x = builtins.input(RED + prompt + RESET)\n",
    "    print(f\"🔹{prompt} ➜ {GREEN_ITALIC}{x}{RESET}\")\n",
    "    return x"
   ]
  },
  {
   "cell_type": "markdown",
   "id": "421c71d2",
   "metadata": {},
   "source": [
    "### Our first task: Extract the filename’s data"
   ]
  },
  {
   "cell_type": "code",
   "execution_count": 3,
   "id": "ee61ce72",
   "metadata": {},
   "outputs": [],
   "source": [
    "fn = \"Darius-13-100m-Fly.txt\""
   ]
  },
  {
   "cell_type": "code",
   "execution_count": 3,
   "id": "fa69c647",
   "metadata": {},
   "outputs": [
    {
     "name": "stdout",
     "output_type": "stream",
     "text": [
      "['__add__', '__class__', '__contains__', '__delattr__', '__dir__', '__doc__', '__eq__', '__format__', '__ge__', '__getattribute__', '__getitem__', '__getnewargs__', '__getstate__', '__gt__', '__hash__', '__init__', '__init_subclass__', '__iter__', '__le__', '__len__', '__lt__', '__mod__', '__mul__', '__ne__', '__new__', '__reduce__', '__reduce_ex__', '__repr__', '__rmod__', '__rmul__', '__setattr__', '__sizeof__', '__str__', '__subclasshook__', 'capitalize', 'casefold', 'center', 'count', 'encode', 'endswith', 'expandtabs', 'find', 'format', 'format_map', 'index', 'isalnum', 'isalpha', 'isascii', 'isdecimal', 'isdigit', 'isidentifier', 'islower', 'isnumeric', 'isprintable', 'isspace', 'istitle', 'isupper', 'join', 'ljust', 'lower', 'lstrip', 'maketrans', 'partition', 'removeprefix', 'removesuffix', 'replace', 'rfind', 'rindex', 'rjust', 'rpartition', 'rsplit', 'rstrip', 'split', 'splitlines', 'startswith', 'strip', 'swapcase', 'title', 'translate', 'upper', 'zfill']\n"
     ]
    }
   ],
   "source": [
    "print(dir(fn))"
   ]
  },
  {
   "cell_type": "markdown",
   "id": "0a1ec78c",
   "metadata": {},
   "source": [
    "---\n",
    "### ✏️ Sharpen your pencil: Page 55"
   ]
  },
  {
   "cell_type": "code",
   "execution_count": 4,
   "id": "a82ea62b",
   "metadata": {},
   "outputs": [
    {
     "data": {
      "text/plain": [
       "'DARIUS-13-100M-FLY.TXT'"
      ]
     },
     "execution_count": 4,
     "metadata": {},
     "output_type": "execute_result"
    }
   ],
   "source": [
    "fn.upper()"
   ]
  },
  {
   "cell_type": "code",
   "execution_count": 5,
   "id": "1e965e1d",
   "metadata": {},
   "outputs": [
    {
     "data": {
      "text/plain": [
       "'darius-13-100m-fly.txt'"
      ]
     },
     "execution_count": 5,
     "metadata": {},
     "output_type": "execute_result"
    }
   ],
   "source": [
    "fn.lower()"
   ]
  },
  {
   "cell_type": "code",
   "execution_count": 7,
   "id": "4d891584",
   "metadata": {},
   "outputs": [
    {
     "data": {
      "text/plain": [
       "'Darius-13-100m-Fly.txt'"
      ]
     },
     "execution_count": 7,
     "metadata": {},
     "output_type": "execute_result"
    }
   ],
   "source": [
    "fn"
   ]
  },
  {
   "cell_type": "code",
   "execution_count": 11,
   "id": "00ec1bdf",
   "metadata": {},
   "outputs": [
    {
     "data": {
      "text/plain": [
       "-597544349788510783"
      ]
     },
     "execution_count": 11,
     "metadata": {},
     "output_type": "execute_result"
    }
   ],
   "source": [
    "hash(fn)"
   ]
  },
  {
   "cell_type": "markdown",
   "id": "8a0cd935",
   "metadata": {},
   "source": [
    "---\n",
    "### Don’t try to guess what a method does…"
   ]
  },
  {
   "cell_type": "code",
   "execution_count": 12,
   "id": "963316e7",
   "metadata": {},
   "outputs": [
    {
     "name": "stdout",
     "output_type": "stream",
     "text": [
      "Help on built-in function split:\n",
      "\n",
      "split(sep=None, maxsplit=-1) method of builtins.str instance\n",
      "    Return a list of the substrings in the string, using sep as the separator string.\n",
      "\n",
      "      sep\n",
      "        The separator used to split the string.\n",
      "\n",
      "        When set to None (the default value), will split on any whitespace\n",
      "        character (including \\n \\r \\t \\f and spaces) and will discard\n",
      "        empty strings from the result.\n",
      "      maxsplit\n",
      "        Maximum number of splits.\n",
      "        -1 (the default value) means no limit.\n",
      "\n",
      "    Splitting starts at the front of the string and works to the end.\n",
      "\n",
      "    Note, str.split() is mainly useful for data that has been intentionally\n",
      "    delimited.  With natural text that includes punctuation, consider using\n",
      "    the regular expression module.\n",
      "\n"
     ]
    }
   ],
   "source": [
    "help(fn.split)"
   ]
  },
  {
   "cell_type": "markdown",
   "id": "6a348e1e",
   "metadata": {},
   "source": [
    "### Splitting (aka, breaking apart) a string"
   ]
  },
  {
   "cell_type": "code",
   "execution_count": 14,
   "id": "adc3c069",
   "metadata": {},
   "outputs": [],
   "source": [
    "title = \"So long, and thanks for all the fish.\""
   ]
  },
  {
   "cell_type": "code",
   "execution_count": 15,
   "id": "6330b1ae",
   "metadata": {},
   "outputs": [
    {
     "data": {
      "text/plain": [
       "['So', 'long,', 'and', 'thanks', 'for', 'all', 'the', 'fish.']"
      ]
     },
     "execution_count": 15,
     "metadata": {},
     "output_type": "execute_result"
    }
   ],
   "source": [
    "title.split()"
   ]
  },
  {
   "cell_type": "code",
   "execution_count": 16,
   "id": "7c58e292",
   "metadata": {},
   "outputs": [
    {
     "data": {
      "text/plain": [
       "['So long', 'and thanks for all the fish.']"
      ]
     },
     "execution_count": 16,
     "metadata": {},
     "output_type": "execute_result"
    }
   ],
   "source": [
    "title.split(\", \")"
   ]
  },
  {
   "cell_type": "markdown",
   "id": "8636fc26",
   "metadata": {},
   "source": [
    "---\n",
    "### 🚗 Test Drive: Page 61"
   ]
  },
  {
   "cell_type": "code",
   "execution_count": 17,
   "id": "c264cae6",
   "metadata": {},
   "outputs": [
    {
     "data": {
      "text/plain": [
       "['Darius-13-100m-Fly.txt']"
      ]
     },
     "execution_count": 17,
     "metadata": {},
     "output_type": "execute_result"
    }
   ],
   "source": [
    "fn.split()"
   ]
  },
  {
   "cell_type": "code",
   "execution_count": 18,
   "id": "4fb2db32",
   "metadata": {},
   "outputs": [
    {
     "data": {
      "text/plain": [
       "['Darius', '13', '100m', 'Fly.txt']"
      ]
     },
     "execution_count": 18,
     "metadata": {},
     "output_type": "execute_result"
    }
   ],
   "source": [
    "fn.split(\"-\")"
   ]
  },
  {
   "cell_type": "markdown",
   "id": "82c9197c",
   "metadata": {},
   "source": [
    "---\n",
    "### ✏️ Sharpen your pencil: Page 63"
   ]
  },
  {
   "cell_type": "code",
   "execution_count": 19,
   "id": "1d53e5aa",
   "metadata": {},
   "outputs": [
    {
     "data": {
      "text/plain": [
       "['Darius-', '-100m-Fly.txt']"
      ]
     },
     "execution_count": 19,
     "metadata": {},
     "output_type": "execute_result"
    }
   ],
   "source": [
    "fn.split(\"13\")"
   ]
  },
  {
   "cell_type": "code",
   "execution_count": 20,
   "id": "0ee2e52e",
   "metadata": {},
   "outputs": [
    {
     "data": {
      "text/plain": [
       "['Darius', '3', '00m-Fly.txt']"
      ]
     },
     "execution_count": 20,
     "metadata": {},
     "output_type": "execute_result"
    }
   ],
   "source": [
    "fn.split(\"-1\")"
   ]
  },
  {
   "cell_type": "code",
   "execution_count": 4,
   "id": "72dbeb0c",
   "metadata": {},
   "outputs": [
    {
     "data": {
      "text/plain": [
       "['Darius-13-100m-Fly', 'txt']"
      ]
     },
     "execution_count": 4,
     "metadata": {},
     "output_type": "execute_result"
    }
   ],
   "source": [
    "fn.split(\".\")"
   ]
  },
  {
   "cell_type": "code",
   "execution_count": 5,
   "id": "e671eeeb",
   "metadata": {},
   "outputs": [
    {
     "data": {
      "text/plain": [
       "['Darius-13-100m-Fly.txt']"
      ]
     },
     "execution_count": 5,
     "metadata": {},
     "output_type": "execute_result"
    }
   ],
   "source": [
    "fn.split(\"-.\")"
   ]
  },
  {
   "cell_type": "code",
   "execution_count": 6,
   "id": "58ff292f",
   "metadata": {},
   "outputs": [
    {
     "ename": "AttributeError",
     "evalue": "'list' object has no attribute 'split'",
     "output_type": "error",
     "traceback": [
      "\u001b[31m---------------------------------------------------------------------------\u001b[39m",
      "\u001b[31mAttributeError\u001b[39m                            Traceback (most recent call last)",
      "\u001b[36mCell\u001b[39m\u001b[36m \u001b[39m\u001b[32mIn[6]\u001b[39m\u001b[32m, line 1\u001b[39m\n\u001b[32m----> \u001b[39m\u001b[32m1\u001b[39m \u001b[43mfn\u001b[49m\u001b[43m.\u001b[49m\u001b[43msplit\u001b[49m\u001b[43m(\u001b[49m\u001b[33;43m\"\u001b[39;49m\u001b[33;43m-\u001b[39;49m\u001b[33;43m\"\u001b[39;49m\u001b[43m)\u001b[49m\u001b[43m.\u001b[49m\u001b[43msplit\u001b[49m(\u001b[33m\"\u001b[39m\u001b[33m.\u001b[39m\u001b[33m\"\u001b[39m)\n",
      "\u001b[31mAttributeError\u001b[39m: 'list' object has no attribute 'split'"
     ]
    }
   ],
   "source": [
    "fn.split(\"-\").split(\".\")"
   ]
  },
  {
   "cell_type": "markdown",
   "id": "3e24f8b8",
   "metadata": {},
   "source": [
    "---\n",
    "### Let’s try another string method"
   ]
  },
  {
   "cell_type": "code",
   "execution_count": 7,
   "id": "b237cf30",
   "metadata": {},
   "outputs": [
    {
     "name": "stdout",
     "output_type": "stream",
     "text": [
      "Help on built-in function removesuffix:\n",
      "\n",
      "removesuffix(suffix, /) method of builtins.str instance\n",
      "    Return a str with the given suffix string removed if present.\n",
      "\n",
      "    If the string ends with the suffix string and that suffix is not empty,\n",
      "    return string[:-len(suffix)]. Otherwise, return a copy of the original\n",
      "    string.\n",
      "\n"
     ]
    }
   ],
   "source": [
    "help(fn.removesuffix)"
   ]
  },
  {
   "cell_type": "markdown",
   "id": "f2feb440",
   "metadata": {},
   "source": [
    "---\n",
    "### ✏️ Sharpen your pencil: Page 70"
   ]
  },
  {
   "cell_type": "code",
   "execution_count": 13,
   "id": "a0e340ee",
   "metadata": {},
   "outputs": [
    {
     "data": {
      "text/plain": [
       "'Fly'"
      ]
     },
     "execution_count": 13,
     "metadata": {},
     "output_type": "execute_result"
    }
   ],
   "source": [
    "\"Fly.txt\".removesuffix(\".txt\")"
   ]
  },
  {
   "cell_type": "code",
   "execution_count": 14,
   "id": "3f60c07b",
   "metadata": {},
   "outputs": [
    {
     "data": {
      "text/plain": [
       "'Free'"
      ]
     },
     "execution_count": 14,
     "metadata": {},
     "output_type": "execute_result"
    }
   ],
   "source": [
    "\"Free.txt\".removesuffix(\".txt\")"
   ]
  },
  {
   "cell_type": "code",
   "execution_count": 15,
   "id": "d0ae7fd7",
   "metadata": {},
   "outputs": [
    {
     "data": {
      "text/plain": [
       "'Back'"
      ]
     },
     "execution_count": 15,
     "metadata": {},
     "output_type": "execute_result"
    }
   ],
   "source": [
    "\"Back.txt\".removesuffix(\".txt\")"
   ]
  },
  {
   "cell_type": "code",
   "execution_count": 16,
   "id": "601ffe3f",
   "metadata": {},
   "outputs": [
    {
     "data": {
      "text/plain": [
       "'Breast'"
      ]
     },
     "execution_count": 16,
     "metadata": {},
     "output_type": "execute_result"
    }
   ],
   "source": [
    "\"Breast.txt\".removesuffix(\".txt\")"
   ]
  },
  {
   "cell_type": "code",
   "execution_count": 18,
   "id": "3106afe0",
   "metadata": {},
   "outputs": [
    {
     "data": {
      "text/plain": [
       "['Darius', '13', '100m', 'Fly']"
      ]
     },
     "execution_count": 18,
     "metadata": {},
     "output_type": "execute_result"
    }
   ],
   "source": [
    "fn.removesuffix(\".txt\").split(\"-\")"
   ]
  },
  {
   "cell_type": "markdown",
   "id": "a4457a6e",
   "metadata": {},
   "source": [
    "---\n",
    "### Multiple Assignment Up Close"
   ]
  },
  {
   "cell_type": "code",
   "execution_count": 19,
   "id": "47925483",
   "metadata": {},
   "outputs": [],
   "source": [
    "pie = 3.14"
   ]
  },
  {
   "cell_type": "code",
   "execution_count": 20,
   "id": "7c56fe82",
   "metadata": {},
   "outputs": [
    {
     "data": {
      "text/plain": [
       "3.14"
      ]
     },
     "execution_count": 20,
     "metadata": {},
     "output_type": "execute_result"
    }
   ],
   "source": [
    "pie"
   ]
  },
  {
   "cell_type": "code",
   "execution_count": 21,
   "id": "e72ea3ab",
   "metadata": {},
   "outputs": [],
   "source": [
    "pie, meaning = 3.14, 42"
   ]
  },
  {
   "cell_type": "code",
   "execution_count": 22,
   "id": "cfbdec51",
   "metadata": {},
   "outputs": [
    {
     "data": {
      "text/plain": [
       "3.14"
      ]
     },
     "execution_count": 22,
     "metadata": {},
     "output_type": "execute_result"
    }
   ],
   "source": [
    "pie"
   ]
  },
  {
   "cell_type": "code",
   "execution_count": 23,
   "id": "3b8f5174",
   "metadata": {},
   "outputs": [
    {
     "data": {
      "text/plain": [
       "42"
      ]
     },
     "execution_count": 23,
     "metadata": {},
     "output_type": "execute_result"
    }
   ],
   "source": [
    "meaning"
   ]
  },
  {
   "cell_type": "code",
   "execution_count": 24,
   "id": "8bddb343",
   "metadata": {},
   "outputs": [],
   "source": [
    "pie, meaning = [3.14, 42]"
   ]
  },
  {
   "cell_type": "code",
   "execution_count": 25,
   "id": "eafb04da",
   "metadata": {},
   "outputs": [
    {
     "data": {
      "text/plain": [
       "3.14"
      ]
     },
     "execution_count": 25,
     "metadata": {},
     "output_type": "execute_result"
    }
   ],
   "source": [
    "pie"
   ]
  },
  {
   "cell_type": "code",
   "execution_count": 26,
   "id": "e5580cb8",
   "metadata": {},
   "outputs": [
    {
     "data": {
      "text/plain": [
       "42"
      ]
     },
     "execution_count": 26,
     "metadata": {},
     "output_type": "execute_result"
    }
   ],
   "source": [
    "meaning"
   ]
  },
  {
   "cell_type": "code",
   "execution_count": 30,
   "id": "269b741f",
   "metadata": {},
   "outputs": [],
   "source": [
    "pie, meaning = (3, 33)"
   ]
  },
  {
   "cell_type": "code",
   "execution_count": 31,
   "id": "aa2603bd",
   "metadata": {},
   "outputs": [
    {
     "data": {
      "text/plain": [
       "3"
      ]
     },
     "execution_count": 31,
     "metadata": {},
     "output_type": "execute_result"
    }
   ],
   "source": [
    "pie"
   ]
  },
  {
   "cell_type": "code",
   "execution_count": 32,
   "id": "e37b95a7",
   "metadata": {},
   "outputs": [
    {
     "data": {
      "text/plain": [
       "33"
      ]
     },
     "execution_count": 32,
     "metadata": {},
     "output_type": "execute_result"
    }
   ],
   "source": [
    "meaning"
   ]
  },
  {
   "cell_type": "code",
   "execution_count": 33,
   "id": "9756a25a",
   "metadata": {},
   "outputs": [],
   "source": [
    "pie, meaning = {3, 6}"
   ]
  },
  {
   "cell_type": "code",
   "execution_count": 34,
   "id": "89b93a83",
   "metadata": {},
   "outputs": [
    {
     "data": {
      "text/plain": [
       "3"
      ]
     },
     "execution_count": 34,
     "metadata": {},
     "output_type": "execute_result"
    }
   ],
   "source": [
    "pie"
   ]
  },
  {
   "cell_type": "code",
   "execution_count": 35,
   "id": "4711c210",
   "metadata": {},
   "outputs": [
    {
     "data": {
      "text/plain": [
       "6"
      ]
     },
     "execution_count": 35,
     "metadata": {},
     "output_type": "execute_result"
    }
   ],
   "source": [
    "meaning"
   ]
  },
  {
   "cell_type": "markdown",
   "id": "f0e249da",
   "metadata": {},
   "source": [
    "---\n",
    "### ✏️ Sharpen your pencil: Page 75"
   ]
  },
  {
   "cell_type": "code",
   "execution_count": 38,
   "id": "74a69d88",
   "metadata": {},
   "outputs": [
    {
     "data": {
      "text/plain": [
       "['Darius', '13', '100m', 'Fly']"
      ]
     },
     "execution_count": 38,
     "metadata": {},
     "output_type": "execute_result"
    }
   ],
   "source": [
    "fn = \"Darius-13-100m-Fly.txt\"\n",
    "\n",
    "my_list = fn.removesuffix(\".txt\").split(\"-\")\n",
    "\n",
    "my_list"
   ]
  },
  {
   "cell_type": "code",
   "execution_count": 40,
   "id": "d2aedcb6",
   "metadata": {},
   "outputs": [
    {
     "name": "stdout",
     "output_type": "stream",
     "text": [
      "Darius\n",
      "13\n",
      "100m\n",
      "Fly\n"
     ]
    }
   ],
   "source": [
    "swimmer, age, distance, stroke = my_list\n",
    "\n",
    "print(swimmer)\n",
    "print(age)\n",
    "print(distance)\n",
    "print(stroke)"
   ]
  },
  {
   "cell_type": "code",
   "execution_count": 41,
   "id": "f52e102b",
   "metadata": {},
   "outputs": [
    {
     "data": {
      "text/plain": [
       "['Abi', '10', '50m', 'Back']"
      ]
     },
     "execution_count": 41,
     "metadata": {},
     "output_type": "execute_result"
    }
   ],
   "source": [
    "fn = \"Abi-10-50m-Back.txt\"\n",
    "my_list2 = fn.removesuffix(\".txt\").split(\"-\")\n",
    "\n",
    "my_list2"
   ]
  },
  {
   "cell_type": "code",
   "execution_count": 43,
   "id": "9eda9ca1",
   "metadata": {},
   "outputs": [
    {
     "name": "stdout",
     "output_type": "stream",
     "text": [
      "Abi\n",
      "10\n",
      "50m\n",
      "Back\n"
     ]
    }
   ],
   "source": [
    "swimmer, age, distance, stroke = my_list2\n",
    "\n",
    "print(swimmer)\n",
    "print(age)\n",
    "print(distance)\n",
    "print(stroke)"
   ]
  }
 ],
 "metadata": {
  "kernelspec": {
   "display_name": "Python 3",
   "language": "python",
   "name": "python3"
  },
  "language_info": {
   "codemirror_mode": {
    "name": "ipython",
    "version": 3
   },
   "file_extension": ".py",
   "mimetype": "text/x-python",
   "name": "python",
   "nbconvert_exporter": "python",
   "pygments_lexer": "ipython3",
   "version": "3.13.5"
  }
 },
 "nbformat": 4,
 "nbformat_minor": 5
}
